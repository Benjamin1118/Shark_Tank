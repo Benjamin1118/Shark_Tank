{
  "nbformat": 4,
  "nbformat_minor": 0,
  "metadata": {
    "colab": {
      "name": "Shark_tank",
      "provenance": [],
      "authorship_tag": "ABX9TyM1RdXmSJs/2yGDcDzfVoQx",
      "include_colab_link": true
    },
    "kernelspec": {
      "name": "python3",
      "display_name": "Python 3"
    }
  },
  "cells": [
    {
      "cell_type": "markdown",
      "metadata": {
        "id": "view-in-github",
        "colab_type": "text"
      },
      "source": [
        "<a href=\"https://colab.research.google.com/github/Benjamin1118/Shark_Tank/blob/main/Shark_tank.ipynb\" target=\"_parent\"><img src=\"https://colab.research.google.com/assets/colab-badge.svg\" alt=\"Open In Colab\"/></a>"
      ]
    },
    {
      "cell_type": "code",
      "metadata": {
        "colab": {
          "base_uri": "https://localhost:8080/",
          "height": 315
        },
        "id": "fxQqoOhehBFh",
        "outputId": "6184aa82-c064-44a7-bde4-aaa01e86d644"
      },
      "source": [
        "# import some basic libraries to start\r\n",
        "import csv\r\n",
        "import pandas as pd\r\n",
        "import numpy as np\r\n",
        "import re\r\n",
        "\r\n",
        "#import nltk\r\n",
        "\r\n",
        "# upload data into system using pd.read_csv\r\n",
        "df = pd.read_csv('/content/shark_tank.csv')\r\n",
        "# find shape\r\n",
        "print(df.shape)\r\n",
        "# print head of df\r\n",
        "df.head()\r\n"
      ],
      "execution_count": 1,
      "outputs": [
        {
          "output_type": "stream",
          "text": [
            "(495, 19)\n"
          ],
          "name": "stdout"
        },
        {
          "output_type": "execute_result",
          "data": {
            "text/html": [
              "<div>\n",
              "<style scoped>\n",
              "    .dataframe tbody tr th:only-of-type {\n",
              "        vertical-align: middle;\n",
              "    }\n",
              "\n",
              "    .dataframe tbody tr th {\n",
              "        vertical-align: top;\n",
              "    }\n",
              "\n",
              "    .dataframe thead th {\n",
              "        text-align: right;\n",
              "    }\n",
              "</style>\n",
              "<table border=\"1\" class=\"dataframe\">\n",
              "  <thead>\n",
              "    <tr style=\"text-align: right;\">\n",
              "      <th></th>\n",
              "      <th>deal</th>\n",
              "      <th>description</th>\n",
              "      <th>episode</th>\n",
              "      <th>category</th>\n",
              "      <th>entrepreneurs</th>\n",
              "      <th>location</th>\n",
              "      <th>website</th>\n",
              "      <th>askedFor</th>\n",
              "      <th>exchangeForStake</th>\n",
              "      <th>valuation</th>\n",
              "      <th>season</th>\n",
              "      <th>shark1</th>\n",
              "      <th>shark2</th>\n",
              "      <th>shark3</th>\n",
              "      <th>shark4</th>\n",
              "      <th>shark5</th>\n",
              "      <th>title</th>\n",
              "      <th>episode-season</th>\n",
              "      <th>Multiple Entreprenuers</th>\n",
              "    </tr>\n",
              "  </thead>\n",
              "  <tbody>\n",
              "    <tr>\n",
              "      <th>0</th>\n",
              "      <td>False</td>\n",
              "      <td>Bluetooth device implant for your ear.</td>\n",
              "      <td>1</td>\n",
              "      <td>Novelties</td>\n",
              "      <td>Darrin Johnson</td>\n",
              "      <td>St. Paul, MN</td>\n",
              "      <td>NaN</td>\n",
              "      <td>1000000</td>\n",
              "      <td>15</td>\n",
              "      <td>6666667</td>\n",
              "      <td>1</td>\n",
              "      <td>Barbara Corcoran</td>\n",
              "      <td>Robert Herjavec</td>\n",
              "      <td>Kevin O'Leary</td>\n",
              "      <td>Daymond John</td>\n",
              "      <td>Kevin Harrington</td>\n",
              "      <td>Ionic Ear</td>\n",
              "      <td>1-1</td>\n",
              "      <td>False</td>\n",
              "    </tr>\n",
              "    <tr>\n",
              "      <th>1</th>\n",
              "      <td>True</td>\n",
              "      <td>Retail and wholesale pie factory with two reta...</td>\n",
              "      <td>1</td>\n",
              "      <td>Specialty Food</td>\n",
              "      <td>Tod Wilson</td>\n",
              "      <td>Somerset, NJ</td>\n",
              "      <td>http://whybake.com/</td>\n",
              "      <td>460000</td>\n",
              "      <td>10</td>\n",
              "      <td>4600000</td>\n",
              "      <td>1</td>\n",
              "      <td>Barbara Corcoran</td>\n",
              "      <td>Robert Herjavec</td>\n",
              "      <td>Kevin O'Leary</td>\n",
              "      <td>Daymond John</td>\n",
              "      <td>Kevin Harrington</td>\n",
              "      <td>Mr. Tod's Pie Factory</td>\n",
              "      <td>1-1</td>\n",
              "      <td>False</td>\n",
              "    </tr>\n",
              "    <tr>\n",
              "      <th>2</th>\n",
              "      <td>True</td>\n",
              "      <td>Ava the Elephant is a godsend for frazzled par...</td>\n",
              "      <td>1</td>\n",
              "      <td>Baby and Child Care</td>\n",
              "      <td>Tiffany Krumins</td>\n",
              "      <td>Atlanta, GA</td>\n",
              "      <td>http://www.avatheelephant.com/</td>\n",
              "      <td>50000</td>\n",
              "      <td>15</td>\n",
              "      <td>333333</td>\n",
              "      <td>1</td>\n",
              "      <td>Barbara Corcoran</td>\n",
              "      <td>Robert Herjavec</td>\n",
              "      <td>Kevin O'Leary</td>\n",
              "      <td>Daymond John</td>\n",
              "      <td>Kevin Harrington</td>\n",
              "      <td>Ava the Elephant</td>\n",
              "      <td>1-1</td>\n",
              "      <td>False</td>\n",
              "    </tr>\n",
              "    <tr>\n",
              "      <th>3</th>\n",
              "      <td>False</td>\n",
              "      <td>Organizing, packing, and moving services deliv...</td>\n",
              "      <td>1</td>\n",
              "      <td>Consumer Services</td>\n",
              "      <td>Nick Friedman, Omar Soliman</td>\n",
              "      <td>Tampa, FL</td>\n",
              "      <td>http://collegehunkshaulingjunk.com/</td>\n",
              "      <td>250000</td>\n",
              "      <td>25</td>\n",
              "      <td>1000000</td>\n",
              "      <td>1</td>\n",
              "      <td>Barbara Corcoran</td>\n",
              "      <td>Robert Herjavec</td>\n",
              "      <td>Kevin O'Leary</td>\n",
              "      <td>Daymond John</td>\n",
              "      <td>Kevin Harrington</td>\n",
              "      <td>College Foxes Packing Boxes</td>\n",
              "      <td>1-1</td>\n",
              "      <td>False</td>\n",
              "    </tr>\n",
              "    <tr>\n",
              "      <th>4</th>\n",
              "      <td>False</td>\n",
              "      <td>Interactive media centers for healthcare waiti...</td>\n",
              "      <td>1</td>\n",
              "      <td>Consumer Services</td>\n",
              "      <td>Kevin Flannery</td>\n",
              "      <td>Cary, NC</td>\n",
              "      <td>http://www.wispots.com/</td>\n",
              "      <td>1200000</td>\n",
              "      <td>10</td>\n",
              "      <td>12000000</td>\n",
              "      <td>1</td>\n",
              "      <td>Barbara Corcoran</td>\n",
              "      <td>Robert Herjavec</td>\n",
              "      <td>Kevin O'Leary</td>\n",
              "      <td>Daymond John</td>\n",
              "      <td>Kevin Harrington</td>\n",
              "      <td>Wispots</td>\n",
              "      <td>1-1</td>\n",
              "      <td>False</td>\n",
              "    </tr>\n",
              "  </tbody>\n",
              "</table>\n",
              "</div>"
            ],
            "text/plain": [
              "    deal  ... Multiple Entreprenuers\n",
              "0  False  ...                  False\n",
              "1   True  ...                  False\n",
              "2   True  ...                  False\n",
              "3  False  ...                  False\n",
              "4  False  ...                  False\n",
              "\n",
              "[5 rows x 19 columns]"
            ]
          },
          "metadata": {
            "tags": []
          },
          "execution_count": 1
        }
      ]
    },
    {
      "cell_type": "code",
      "metadata": {
        "colab": {
          "base_uri": "https://localhost:8080/",
          "height": 215
        },
        "id": "ovqO6798hwVC",
        "outputId": "d5521382-38c8-419c-f113-7a6961b100bf"
      },
      "source": [
        "# for this project I don't need episode, location, episode-season, website or season\r\n",
        "df = df.drop(['episode', 'location', 'episode-season', 'website','season', 'shark1', 'shark2', 'shark3', 'shark4', 'shark5',\"Multiple Entreprenuers\"], axis = 1)\r\n",
        "# print changes to shape and verify they are true with printing head of df\r\n",
        "print(df.shape)\r\n",
        "df.head()"
      ],
      "execution_count": 2,
      "outputs": [
        {
          "output_type": "stream",
          "text": [
            "(495, 8)\n"
          ],
          "name": "stdout"
        },
        {
          "output_type": "execute_result",
          "data": {
            "text/html": [
              "<div>\n",
              "<style scoped>\n",
              "    .dataframe tbody tr th:only-of-type {\n",
              "        vertical-align: middle;\n",
              "    }\n",
              "\n",
              "    .dataframe tbody tr th {\n",
              "        vertical-align: top;\n",
              "    }\n",
              "\n",
              "    .dataframe thead th {\n",
              "        text-align: right;\n",
              "    }\n",
              "</style>\n",
              "<table border=\"1\" class=\"dataframe\">\n",
              "  <thead>\n",
              "    <tr style=\"text-align: right;\">\n",
              "      <th></th>\n",
              "      <th>deal</th>\n",
              "      <th>description</th>\n",
              "      <th>category</th>\n",
              "      <th>entrepreneurs</th>\n",
              "      <th>askedFor</th>\n",
              "      <th>exchangeForStake</th>\n",
              "      <th>valuation</th>\n",
              "      <th>title</th>\n",
              "    </tr>\n",
              "  </thead>\n",
              "  <tbody>\n",
              "    <tr>\n",
              "      <th>0</th>\n",
              "      <td>False</td>\n",
              "      <td>Bluetooth device implant for your ear.</td>\n",
              "      <td>Novelties</td>\n",
              "      <td>Darrin Johnson</td>\n",
              "      <td>1000000</td>\n",
              "      <td>15</td>\n",
              "      <td>6666667</td>\n",
              "      <td>Ionic Ear</td>\n",
              "    </tr>\n",
              "    <tr>\n",
              "      <th>1</th>\n",
              "      <td>True</td>\n",
              "      <td>Retail and wholesale pie factory with two reta...</td>\n",
              "      <td>Specialty Food</td>\n",
              "      <td>Tod Wilson</td>\n",
              "      <td>460000</td>\n",
              "      <td>10</td>\n",
              "      <td>4600000</td>\n",
              "      <td>Mr. Tod's Pie Factory</td>\n",
              "    </tr>\n",
              "    <tr>\n",
              "      <th>2</th>\n",
              "      <td>True</td>\n",
              "      <td>Ava the Elephant is a godsend for frazzled par...</td>\n",
              "      <td>Baby and Child Care</td>\n",
              "      <td>Tiffany Krumins</td>\n",
              "      <td>50000</td>\n",
              "      <td>15</td>\n",
              "      <td>333333</td>\n",
              "      <td>Ava the Elephant</td>\n",
              "    </tr>\n",
              "    <tr>\n",
              "      <th>3</th>\n",
              "      <td>False</td>\n",
              "      <td>Organizing, packing, and moving services deliv...</td>\n",
              "      <td>Consumer Services</td>\n",
              "      <td>Nick Friedman, Omar Soliman</td>\n",
              "      <td>250000</td>\n",
              "      <td>25</td>\n",
              "      <td>1000000</td>\n",
              "      <td>College Foxes Packing Boxes</td>\n",
              "    </tr>\n",
              "    <tr>\n",
              "      <th>4</th>\n",
              "      <td>False</td>\n",
              "      <td>Interactive media centers for healthcare waiti...</td>\n",
              "      <td>Consumer Services</td>\n",
              "      <td>Kevin Flannery</td>\n",
              "      <td>1200000</td>\n",
              "      <td>10</td>\n",
              "      <td>12000000</td>\n",
              "      <td>Wispots</td>\n",
              "    </tr>\n",
              "  </tbody>\n",
              "</table>\n",
              "</div>"
            ],
            "text/plain": [
              "    deal  ...                        title\n",
              "0  False  ...                    Ionic Ear\n",
              "1   True  ...        Mr. Tod's Pie Factory\n",
              "2   True  ...             Ava the Elephant\n",
              "3  False  ...  College Foxes Packing Boxes\n",
              "4  False  ...                      Wispots\n",
              "\n",
              "[5 rows x 8 columns]"
            ]
          },
          "metadata": {
            "tags": []
          },
          "execution_count": 2
        }
      ]
    },
    {
      "cell_type": "code",
      "metadata": {
        "colab": {
          "base_uri": "https://localhost:8080/",
          "height": 197
        },
        "id": "IDO7ujuxh0oj",
        "outputId": "e411fc81-91f8-4ae8-81d5-45a569233df9"
      },
      "source": [
        "# turning the true and false of deal to 1 or 0\r\n",
        "df['deal'] = df['deal'].astype(int)\r\n",
        "\r\n",
        "#making sure it did it correctly\r\n",
        "df.head()"
      ],
      "execution_count": 3,
      "outputs": [
        {
          "output_type": "execute_result",
          "data": {
            "text/html": [
              "<div>\n",
              "<style scoped>\n",
              "    .dataframe tbody tr th:only-of-type {\n",
              "        vertical-align: middle;\n",
              "    }\n",
              "\n",
              "    .dataframe tbody tr th {\n",
              "        vertical-align: top;\n",
              "    }\n",
              "\n",
              "    .dataframe thead th {\n",
              "        text-align: right;\n",
              "    }\n",
              "</style>\n",
              "<table border=\"1\" class=\"dataframe\">\n",
              "  <thead>\n",
              "    <tr style=\"text-align: right;\">\n",
              "      <th></th>\n",
              "      <th>deal</th>\n",
              "      <th>description</th>\n",
              "      <th>category</th>\n",
              "      <th>entrepreneurs</th>\n",
              "      <th>askedFor</th>\n",
              "      <th>exchangeForStake</th>\n",
              "      <th>valuation</th>\n",
              "      <th>title</th>\n",
              "    </tr>\n",
              "  </thead>\n",
              "  <tbody>\n",
              "    <tr>\n",
              "      <th>0</th>\n",
              "      <td>0</td>\n",
              "      <td>Bluetooth device implant for your ear.</td>\n",
              "      <td>Novelties</td>\n",
              "      <td>Darrin Johnson</td>\n",
              "      <td>1000000</td>\n",
              "      <td>15</td>\n",
              "      <td>6666667</td>\n",
              "      <td>Ionic Ear</td>\n",
              "    </tr>\n",
              "    <tr>\n",
              "      <th>1</th>\n",
              "      <td>1</td>\n",
              "      <td>Retail and wholesale pie factory with two reta...</td>\n",
              "      <td>Specialty Food</td>\n",
              "      <td>Tod Wilson</td>\n",
              "      <td>460000</td>\n",
              "      <td>10</td>\n",
              "      <td>4600000</td>\n",
              "      <td>Mr. Tod's Pie Factory</td>\n",
              "    </tr>\n",
              "    <tr>\n",
              "      <th>2</th>\n",
              "      <td>1</td>\n",
              "      <td>Ava the Elephant is a godsend for frazzled par...</td>\n",
              "      <td>Baby and Child Care</td>\n",
              "      <td>Tiffany Krumins</td>\n",
              "      <td>50000</td>\n",
              "      <td>15</td>\n",
              "      <td>333333</td>\n",
              "      <td>Ava the Elephant</td>\n",
              "    </tr>\n",
              "    <tr>\n",
              "      <th>3</th>\n",
              "      <td>0</td>\n",
              "      <td>Organizing, packing, and moving services deliv...</td>\n",
              "      <td>Consumer Services</td>\n",
              "      <td>Nick Friedman, Omar Soliman</td>\n",
              "      <td>250000</td>\n",
              "      <td>25</td>\n",
              "      <td>1000000</td>\n",
              "      <td>College Foxes Packing Boxes</td>\n",
              "    </tr>\n",
              "    <tr>\n",
              "      <th>4</th>\n",
              "      <td>0</td>\n",
              "      <td>Interactive media centers for healthcare waiti...</td>\n",
              "      <td>Consumer Services</td>\n",
              "      <td>Kevin Flannery</td>\n",
              "      <td>1200000</td>\n",
              "      <td>10</td>\n",
              "      <td>12000000</td>\n",
              "      <td>Wispots</td>\n",
              "    </tr>\n",
              "  </tbody>\n",
              "</table>\n",
              "</div>"
            ],
            "text/plain": [
              "   deal  ...                        title\n",
              "0     0  ...                    Ionic Ear\n",
              "1     1  ...        Mr. Tod's Pie Factory\n",
              "2     1  ...             Ava the Elephant\n",
              "3     0  ...  College Foxes Packing Boxes\n",
              "4     0  ...                      Wispots\n",
              "\n",
              "[5 rows x 8 columns]"
            ]
          },
          "metadata": {
            "tags": []
          },
          "execution_count": 3
        }
      ]
    },
    {
      "cell_type": "code",
      "metadata": {
        "id": "HkiOtcPY1_YN"
      },
      "source": [
        "def data_cleaning(corpus):\r\n",
        "  letters_only = re.sub('[^a-zA-Z]', \" \", corpus)\r\n",
        "  words = letters_only.lower().split()\r\n",
        "  return( ' '.join( words ))"
      ],
      "execution_count": 4,
      "outputs": []
    },
    {
      "cell_type": "code",
      "metadata": {
        "colab": {
          "base_uri": "https://localhost:8080/"
        },
        "id": "KSr0Ev58_k5b",
        "outputId": "95aa489f-f2e1-4642-de13-fe891769fd43"
      },
      "source": [
        "df['description'] = df['description'].apply(lambda x: data_cleaning(x))\r\n",
        "df['description']"
      ],
      "execution_count": 5,
      "outputs": [
        {
          "output_type": "execute_result",
          "data": {
            "text/plain": [
              "0                  bluetooth device implant for your ear\n",
              "1      retail and wholesale pie factory with two reta...\n",
              "2      ava the elephant is a godsend for frazzled par...\n",
              "3      organizing packing and moving services deliver...\n",
              "4      interactive media centers for healthcare waiti...\n",
              "                             ...                        \n",
              "490    zoom interiors is a virtual service for interi...\n",
              "491    spikeball started out as a casual outdoors gam...\n",
              "492    shark wheel is out to literally reinvent the w...\n",
              "493    adriana montano wants to open the first cat ca...\n",
              "494    sway motorsports makes a three wheeled all ele...\n",
              "Name: description, Length: 495, dtype: object"
            ]
          },
          "metadata": {
            "tags": []
          },
          "execution_count": 5
        }
      ]
    },
    {
      "cell_type": "code",
      "metadata": {
        "id": "AHraQEnrh7sS"
      },
      "source": [
        "# split data into train and test\r\n",
        "from sklearn.model_selection import train_test_split\r\n",
        "train, test = train_test_split(df, test_size = .20)\r\n"
      ],
      "execution_count": 6,
      "outputs": []
    },
    {
      "cell_type": "code",
      "metadata": {
        "id": "4H97VpvRyCcb"
      },
      "source": [
        "# Vectorize\r\n",
        "train_corpus = []\r\n",
        "test_corpus = []\r\n",
        "for i in train[\"description\"]:\r\n",
        "  train_corpus.append(i)\r\n",
        "for i in test[\"description\"]:\r\n",
        "  test_corpus.append(i)\r\n",
        "\r\n",
        "# create\r\n",
        "from sklearn.feature_extraction.text import CountVectorizer\r\n",
        "v = CountVectorizer(ngram_range=(2,2))\r\n",
        "train_features = v.fit_transform(train_corpus)\r\n",
        "test_features = v.transform(test_corpus)"
      ],
      "execution_count": 7,
      "outputs": []
    },
    {
      "cell_type": "code",
      "metadata": {
        "colab": {
          "base_uri": "https://localhost:8080/"
        },
        "id": "bGQ4gMSSYyFI",
        "outputId": "8fd74812-622f-4191-9afc-b0627a360844"
      },
      "source": [
        "print(train_features.shape)\r\n",
        "print(test_features.shape)"
      ],
      "execution_count": 8,
      "outputs": [
        {
          "output_type": "stream",
          "text": [
            "(396, 11169)\n",
            "(99, 11169)\n"
          ],
          "name": "stdout"
        }
      ]
    },
    {
      "cell_type": "code",
      "metadata": {
        "id": "o0EbMjCyh85p"
      },
      "source": [
        "# Import ML models from sklearn\r\n",
        "from sklearn.linear_model import LogisticRegression # Regression classifier\r\n",
        "from sklearn.tree import DecisionTreeClassifier # decision tree classifier\r\n",
        "from sklearn import svm # support vector machine\r\n",
        "from sklearn.ensemble import RandomForestClassifier\r\n",
        "#!pip install XGBoost  as XGB # RF and GBC\r\n",
        "from sklearn.naive_bayes import MultinomialNB # naive bayes classifier\r\n",
        "from sklearn.metrics import accuracy_score, recall_score, confusion_matrix # metrics to check performance of modelfrom sklearn.model_selection import train_test_split\r\n",
        "\r\n"
      ],
      "execution_count": 31,
      "outputs": []
    },
    {
      "cell_type": "code",
      "metadata": {
        "id": "1LMA897hpjzu"
      },
      "source": [
        "# set params for algorithms \r\n",
        "Classifiers = {'LR': LogisticRegression(random_state=42, C = 5, max_iter=200),\r\n",
        "             'DTC': DecisionTreeClassifier(random_state=42, min_samples_leaf=2),\r\n",
        "             'RF': RandomForestClassifier(random_state= 42, n_estimators= 100,n_jobs=-1),\r\n",
        "             #'XGB': XGB(random_state = 42, n_estimators = 400, learning_rate = .2),\r\n",
        "             \"SVM\": svm.SVC(kernel=\"linear\", C = .1),\r\n",
        "             'NB': MultinomialNB(alpha=.05)}"
      ],
      "execution_count": 10,
      "outputs": []
    },
    {
      "cell_type": "code",
      "metadata": {
        "id": "X1JHwjqqwzhh"
      },
      "source": [
        "# create pipeline\r\n",
        "def ML_Pipeline(clf_name):\r\n",
        "  clf = Classifiers[clf_name]\r\n",
        "  fit = clf.fit(train_features, train[\"deal\"])\r\n",
        "  pred = clf.predict(test_features)\r\n",
        "  Accuracy = accuracy_score(test['deal'],pred)\r\n",
        "  Confusion_matrix = confusion_matrix(test['deal'], pred)\r\n",
        "  \r\n",
        "  print(\"Accuracy = \"+ str(Accuracy))\r\n",
        "  \r\n",
        "  print(Confusion_matrix)"
      ],
      "execution_count": 11,
      "outputs": []
    },
    {
      "cell_type": "code",
      "metadata": {
        "id": "gT_GSCr8Hksn"
      },
      "source": [
        ""
      ],
      "execution_count": null,
      "outputs": []
    },
    {
      "cell_type": "markdown",
      "metadata": {
        "id": "s1xBk60ZHlhm"
      },
      "source": [
        "Run the  test through a few different classification systems and see their results."
      ]
    },
    {
      "cell_type": "code",
      "metadata": {
        "colab": {
          "base_uri": "https://localhost:8080/"
        },
        "id": "Qb8qMllAz0Hf",
        "outputId": "eaa1c40b-476d-44dc-afa0-6cceb0581df5"
      },
      "source": [
        "ML_Pipeline('LR')"
      ],
      "execution_count": 30,
      "outputs": [
        {
          "output_type": "stream",
          "text": [
            "Accuracy = 0.5454545454545454\n",
            "[[36 10]\n",
            " [35 18]]\n"
          ],
          "name": "stdout"
        }
      ]
    },
    {
      "cell_type": "code",
      "metadata": {
        "colab": {
          "base_uri": "https://localhost:8080/"
        },
        "id": "NgFib-sNz81l",
        "outputId": "8870d8ca-e872-45e2-9197-825fd622609b"
      },
      "source": [
        "ML_Pipeline('DTC')"
      ],
      "execution_count": 25,
      "outputs": [
        {
          "output_type": "stream",
          "text": [
            "Accuracy = 0.5555555555555556\n",
            "[[41  5]\n",
            " [39 14]]\n"
          ],
          "name": "stdout"
        }
      ]
    },
    {
      "cell_type": "code",
      "metadata": {
        "colab": {
          "base_uri": "https://localhost:8080/"
        },
        "id": "jfW1wv__d4oB",
        "outputId": "1e4c4779-7a64-4730-f2cf-1c1041a84dc3"
      },
      "source": [
        "ML_Pipeline('RF')"
      ],
      "execution_count": 26,
      "outputs": [
        {
          "output_type": "stream",
          "text": [
            "Accuracy = 0.5252525252525253\n",
            "[[45  1]\n",
            " [46  7]]\n"
          ],
          "name": "stdout"
        }
      ]
    },
    {
      "cell_type": "code",
      "metadata": {
        "colab": {
          "base_uri": "https://localhost:8080/"
        },
        "id": "N1Yuvs1Qd7M4",
        "outputId": "03952670-41eb-434d-e77a-7774d3d2a442"
      },
      "source": [
        "ML_Pipeline('SVM')"
      ],
      "execution_count": 27,
      "outputs": [
        {
          "output_type": "stream",
          "text": [
            "Accuracy = 0.5555555555555556\n",
            "[[38  8]\n",
            " [36 17]]\n"
          ],
          "name": "stdout"
        }
      ]
    },
    {
      "cell_type": "code",
      "metadata": {
        "colab": {
          "base_uri": "https://localhost:8080/"
        },
        "id": "c-dnHt6Hd96_",
        "outputId": "62f24580-7017-4175-e4e2-ab081d9ed9ce"
      },
      "source": [
        "ML_Pipeline('NB')"
      ],
      "execution_count": 28,
      "outputs": [
        {
          "output_type": "stream",
          "text": [
            "Accuracy = 0.5959595959595959\n",
            "[[27 19]\n",
            " [21 32]]\n"
          ],
          "name": "stdout"
        }
      ]
    },
    {
      "cell_type": "code",
      "metadata": {
        "id": "bQGV8B1onajV"
      },
      "source": [
        ""
      ],
      "execution_count": null,
      "outputs": []
    }
  ]
}