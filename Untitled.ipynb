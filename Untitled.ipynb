{
 "cells": [
  {
   "cell_type": "code",
   "execution_count": 1,
   "metadata": {},
   "outputs": [
    {
     "name": "stdout",
     "output_type": "stream",
     "text": [
      "(495, 19)\n"
     ]
    },
    {
     "data": {
      "text/html": [
       "<div>\n",
       "<style scoped>\n",
       "    .dataframe tbody tr th:only-of-type {\n",
       "        vertical-align: middle;\n",
       "    }\n",
       "\n",
       "    .dataframe tbody tr th {\n",
       "        vertical-align: top;\n",
       "    }\n",
       "\n",
       "    .dataframe thead th {\n",
       "        text-align: right;\n",
       "    }\n",
       "</style>\n",
       "<table border=\"1\" class=\"dataframe\">\n",
       "  <thead>\n",
       "    <tr style=\"text-align: right;\">\n",
       "      <th></th>\n",
       "      <th>deal</th>\n",
       "      <th>description</th>\n",
       "      <th>episode</th>\n",
       "      <th>category</th>\n",
       "      <th>entrepreneurs</th>\n",
       "      <th>location</th>\n",
       "      <th>website</th>\n",
       "      <th>askedFor</th>\n",
       "      <th>exchangeForStake</th>\n",
       "      <th>valuation</th>\n",
       "      <th>season</th>\n",
       "      <th>shark1</th>\n",
       "      <th>shark2</th>\n",
       "      <th>shark3</th>\n",
       "      <th>shark4</th>\n",
       "      <th>shark5</th>\n",
       "      <th>title</th>\n",
       "      <th>episode-season</th>\n",
       "      <th>Multiple Entreprenuers</th>\n",
       "    </tr>\n",
       "  </thead>\n",
       "  <tbody>\n",
       "    <tr>\n",
       "      <td>0</td>\n",
       "      <td>False</td>\n",
       "      <td>Bluetooth device implant for your ear.</td>\n",
       "      <td>1</td>\n",
       "      <td>Novelties</td>\n",
       "      <td>Darrin Johnson</td>\n",
       "      <td>St. Paul, MN</td>\n",
       "      <td>NaN</td>\n",
       "      <td>1000000</td>\n",
       "      <td>15</td>\n",
       "      <td>6666667</td>\n",
       "      <td>1</td>\n",
       "      <td>Barbara Corcoran</td>\n",
       "      <td>Robert Herjavec</td>\n",
       "      <td>Kevin O'Leary</td>\n",
       "      <td>Daymond John</td>\n",
       "      <td>Kevin Harrington</td>\n",
       "      <td>Ionic Ear</td>\n",
       "      <td>1-1</td>\n",
       "      <td>False</td>\n",
       "    </tr>\n",
       "    <tr>\n",
       "      <td>1</td>\n",
       "      <td>True</td>\n",
       "      <td>Retail and wholesale pie factory with two reta...</td>\n",
       "      <td>1</td>\n",
       "      <td>Specialty Food</td>\n",
       "      <td>Tod Wilson</td>\n",
       "      <td>Somerset, NJ</td>\n",
       "      <td>http://whybake.com/</td>\n",
       "      <td>460000</td>\n",
       "      <td>10</td>\n",
       "      <td>4600000</td>\n",
       "      <td>1</td>\n",
       "      <td>Barbara Corcoran</td>\n",
       "      <td>Robert Herjavec</td>\n",
       "      <td>Kevin O'Leary</td>\n",
       "      <td>Daymond John</td>\n",
       "      <td>Kevin Harrington</td>\n",
       "      <td>Mr. Tod's Pie Factory</td>\n",
       "      <td>1-1</td>\n",
       "      <td>False</td>\n",
       "    </tr>\n",
       "    <tr>\n",
       "      <td>2</td>\n",
       "      <td>True</td>\n",
       "      <td>Ava the Elephant is a godsend for frazzled par...</td>\n",
       "      <td>1</td>\n",
       "      <td>Baby and Child Care</td>\n",
       "      <td>Tiffany Krumins</td>\n",
       "      <td>Atlanta, GA</td>\n",
       "      <td>http://www.avatheelephant.com/</td>\n",
       "      <td>50000</td>\n",
       "      <td>15</td>\n",
       "      <td>333333</td>\n",
       "      <td>1</td>\n",
       "      <td>Barbara Corcoran</td>\n",
       "      <td>Robert Herjavec</td>\n",
       "      <td>Kevin O'Leary</td>\n",
       "      <td>Daymond John</td>\n",
       "      <td>Kevin Harrington</td>\n",
       "      <td>Ava the Elephant</td>\n",
       "      <td>1-1</td>\n",
       "      <td>False</td>\n",
       "    </tr>\n",
       "    <tr>\n",
       "      <td>3</td>\n",
       "      <td>False</td>\n",
       "      <td>Organizing, packing, and moving services deliv...</td>\n",
       "      <td>1</td>\n",
       "      <td>Consumer Services</td>\n",
       "      <td>Nick Friedman, Omar Soliman</td>\n",
       "      <td>Tampa, FL</td>\n",
       "      <td>http://collegehunkshaulingjunk.com/</td>\n",
       "      <td>250000</td>\n",
       "      <td>25</td>\n",
       "      <td>1000000</td>\n",
       "      <td>1</td>\n",
       "      <td>Barbara Corcoran</td>\n",
       "      <td>Robert Herjavec</td>\n",
       "      <td>Kevin O'Leary</td>\n",
       "      <td>Daymond John</td>\n",
       "      <td>Kevin Harrington</td>\n",
       "      <td>College Foxes Packing Boxes</td>\n",
       "      <td>1-1</td>\n",
       "      <td>False</td>\n",
       "    </tr>\n",
       "    <tr>\n",
       "      <td>4</td>\n",
       "      <td>False</td>\n",
       "      <td>Interactive media centers for healthcare waiti...</td>\n",
       "      <td>1</td>\n",
       "      <td>Consumer Services</td>\n",
       "      <td>Kevin Flannery</td>\n",
       "      <td>Cary, NC</td>\n",
       "      <td>http://www.wispots.com/</td>\n",
       "      <td>1200000</td>\n",
       "      <td>10</td>\n",
       "      <td>12000000</td>\n",
       "      <td>1</td>\n",
       "      <td>Barbara Corcoran</td>\n",
       "      <td>Robert Herjavec</td>\n",
       "      <td>Kevin O'Leary</td>\n",
       "      <td>Daymond John</td>\n",
       "      <td>Kevin Harrington</td>\n",
       "      <td>Wispots</td>\n",
       "      <td>1-1</td>\n",
       "      <td>False</td>\n",
       "    </tr>\n",
       "  </tbody>\n",
       "</table>\n",
       "</div>"
      ],
      "text/plain": [
       "    deal                                        description  episode  \\\n",
       "0  False             Bluetooth device implant for your ear.        1   \n",
       "1   True  Retail and wholesale pie factory with two reta...        1   \n",
       "2   True  Ava the Elephant is a godsend for frazzled par...        1   \n",
       "3  False  Organizing, packing, and moving services deliv...        1   \n",
       "4  False  Interactive media centers for healthcare waiti...        1   \n",
       "\n",
       "              category                entrepreneurs      location  \\\n",
       "0            Novelties               Darrin Johnson  St. Paul, MN   \n",
       "1       Specialty Food                   Tod Wilson  Somerset, NJ   \n",
       "2  Baby and Child Care              Tiffany Krumins   Atlanta, GA   \n",
       "3    Consumer Services  Nick Friedman, Omar Soliman     Tampa, FL   \n",
       "4    Consumer Services               Kevin Flannery      Cary, NC   \n",
       "\n",
       "                               website  askedFor  exchangeForStake  valuation  \\\n",
       "0                                  NaN   1000000                15    6666667   \n",
       "1                  http://whybake.com/    460000                10    4600000   \n",
       "2       http://www.avatheelephant.com/     50000                15     333333   \n",
       "3  http://collegehunkshaulingjunk.com/    250000                25    1000000   \n",
       "4              http://www.wispots.com/   1200000                10   12000000   \n",
       "\n",
       "   season            shark1           shark2         shark3        shark4  \\\n",
       "0       1  Barbara Corcoran  Robert Herjavec  Kevin O'Leary  Daymond John   \n",
       "1       1  Barbara Corcoran  Robert Herjavec  Kevin O'Leary  Daymond John   \n",
       "2       1  Barbara Corcoran  Robert Herjavec  Kevin O'Leary  Daymond John   \n",
       "3       1  Barbara Corcoran  Robert Herjavec  Kevin O'Leary  Daymond John   \n",
       "4       1  Barbara Corcoran  Robert Herjavec  Kevin O'Leary  Daymond John   \n",
       "\n",
       "             shark5                        title episode-season  \\\n",
       "0  Kevin Harrington                    Ionic Ear            1-1   \n",
       "1  Kevin Harrington        Mr. Tod's Pie Factory            1-1   \n",
       "2  Kevin Harrington             Ava the Elephant            1-1   \n",
       "3  Kevin Harrington  College Foxes Packing Boxes            1-1   \n",
       "4  Kevin Harrington                      Wispots            1-1   \n",
       "\n",
       "   Multiple Entreprenuers  \n",
       "0                   False  \n",
       "1                   False  \n",
       "2                   False  \n",
       "3                   False  \n",
       "4                   False  "
      ]
     },
     "execution_count": 1,
     "metadata": {},
     "output_type": "execute_result"
    }
   ],
   "source": [
    "# import some basic libraries to start\n",
    "import csv\n",
    "import pandas as pd\n",
    "import numpy as np\n",
    "import re\n",
    "\n",
    "\n",
    "# upload data into system using pd.read_csv\n",
    "df = pd.read_csv('shark_tank.csv')\n",
    "# find shape\n",
    "print(df.shape)\n",
    "# print head of df\n",
    "df.head()"
   ]
  },
  {
   "cell_type": "code",
   "execution_count": 2,
   "metadata": {},
   "outputs": [
    {
     "name": "stdout",
     "output_type": "stream",
     "text": [
      "(495, 8)\n"
     ]
    },
    {
     "data": {
      "text/html": [
       "<div>\n",
       "<style scoped>\n",
       "    .dataframe tbody tr th:only-of-type {\n",
       "        vertical-align: middle;\n",
       "    }\n",
       "\n",
       "    .dataframe tbody tr th {\n",
       "        vertical-align: top;\n",
       "    }\n",
       "\n",
       "    .dataframe thead th {\n",
       "        text-align: right;\n",
       "    }\n",
       "</style>\n",
       "<table border=\"1\" class=\"dataframe\">\n",
       "  <thead>\n",
       "    <tr style=\"text-align: right;\">\n",
       "      <th></th>\n",
       "      <th>deal</th>\n",
       "      <th>description</th>\n",
       "      <th>category</th>\n",
       "      <th>entrepreneurs</th>\n",
       "      <th>askedFor</th>\n",
       "      <th>exchangeForStake</th>\n",
       "      <th>valuation</th>\n",
       "      <th>title</th>\n",
       "    </tr>\n",
       "  </thead>\n",
       "  <tbody>\n",
       "    <tr>\n",
       "      <td>0</td>\n",
       "      <td>False</td>\n",
       "      <td>Bluetooth device implant for your ear.</td>\n",
       "      <td>Novelties</td>\n",
       "      <td>Darrin Johnson</td>\n",
       "      <td>1000000</td>\n",
       "      <td>15</td>\n",
       "      <td>6666667</td>\n",
       "      <td>Ionic Ear</td>\n",
       "    </tr>\n",
       "    <tr>\n",
       "      <td>1</td>\n",
       "      <td>True</td>\n",
       "      <td>Retail and wholesale pie factory with two reta...</td>\n",
       "      <td>Specialty Food</td>\n",
       "      <td>Tod Wilson</td>\n",
       "      <td>460000</td>\n",
       "      <td>10</td>\n",
       "      <td>4600000</td>\n",
       "      <td>Mr. Tod's Pie Factory</td>\n",
       "    </tr>\n",
       "    <tr>\n",
       "      <td>2</td>\n",
       "      <td>True</td>\n",
       "      <td>Ava the Elephant is a godsend for frazzled par...</td>\n",
       "      <td>Baby and Child Care</td>\n",
       "      <td>Tiffany Krumins</td>\n",
       "      <td>50000</td>\n",
       "      <td>15</td>\n",
       "      <td>333333</td>\n",
       "      <td>Ava the Elephant</td>\n",
       "    </tr>\n",
       "    <tr>\n",
       "      <td>3</td>\n",
       "      <td>False</td>\n",
       "      <td>Organizing, packing, and moving services deliv...</td>\n",
       "      <td>Consumer Services</td>\n",
       "      <td>Nick Friedman, Omar Soliman</td>\n",
       "      <td>250000</td>\n",
       "      <td>25</td>\n",
       "      <td>1000000</td>\n",
       "      <td>College Foxes Packing Boxes</td>\n",
       "    </tr>\n",
       "    <tr>\n",
       "      <td>4</td>\n",
       "      <td>False</td>\n",
       "      <td>Interactive media centers for healthcare waiti...</td>\n",
       "      <td>Consumer Services</td>\n",
       "      <td>Kevin Flannery</td>\n",
       "      <td>1200000</td>\n",
       "      <td>10</td>\n",
       "      <td>12000000</td>\n",
       "      <td>Wispots</td>\n",
       "    </tr>\n",
       "  </tbody>\n",
       "</table>\n",
       "</div>"
      ],
      "text/plain": [
       "    deal                                        description  \\\n",
       "0  False             Bluetooth device implant for your ear.   \n",
       "1   True  Retail and wholesale pie factory with two reta...   \n",
       "2   True  Ava the Elephant is a godsend for frazzled par...   \n",
       "3  False  Organizing, packing, and moving services deliv...   \n",
       "4  False  Interactive media centers for healthcare waiti...   \n",
       "\n",
       "              category                entrepreneurs  askedFor  \\\n",
       "0            Novelties               Darrin Johnson   1000000   \n",
       "1       Specialty Food                   Tod Wilson    460000   \n",
       "2  Baby and Child Care              Tiffany Krumins     50000   \n",
       "3    Consumer Services  Nick Friedman, Omar Soliman    250000   \n",
       "4    Consumer Services               Kevin Flannery   1200000   \n",
       "\n",
       "   exchangeForStake  valuation                        title  \n",
       "0                15    6666667                    Ionic Ear  \n",
       "1                10    4600000        Mr. Tod's Pie Factory  \n",
       "2                15     333333             Ava the Elephant  \n",
       "3                25    1000000  College Foxes Packing Boxes  \n",
       "4                10   12000000                      Wispots  "
      ]
     },
     "execution_count": 2,
     "metadata": {},
     "output_type": "execute_result"
    }
   ],
   "source": [
    "# for this project I don't need episode, location, episode-season, website or season\n",
    "df = df.drop(['episode', 'location', 'episode-season', 'website','season', 'shark1', 'shark2', 'shark3', 'shark4', 'shark5',\"Multiple Entreprenuers\"], axis = 1)\n",
    "# print changes to shape and verify they are true with printing head of df\n",
    "print(df.shape)\n",
    "df.head()"
   ]
  },
  {
   "cell_type": "code",
   "execution_count": 3,
   "metadata": {},
   "outputs": [
    {
     "data": {
      "text/html": [
       "<div>\n",
       "<style scoped>\n",
       "    .dataframe tbody tr th:only-of-type {\n",
       "        vertical-align: middle;\n",
       "    }\n",
       "\n",
       "    .dataframe tbody tr th {\n",
       "        vertical-align: top;\n",
       "    }\n",
       "\n",
       "    .dataframe thead th {\n",
       "        text-align: right;\n",
       "    }\n",
       "</style>\n",
       "<table border=\"1\" class=\"dataframe\">\n",
       "  <thead>\n",
       "    <tr style=\"text-align: right;\">\n",
       "      <th></th>\n",
       "      <th>deal</th>\n",
       "      <th>description</th>\n",
       "      <th>category</th>\n",
       "      <th>entrepreneurs</th>\n",
       "      <th>askedFor</th>\n",
       "      <th>exchangeForStake</th>\n",
       "      <th>valuation</th>\n",
       "      <th>title</th>\n",
       "    </tr>\n",
       "  </thead>\n",
       "  <tbody>\n",
       "    <tr>\n",
       "      <td>0</td>\n",
       "      <td>0</td>\n",
       "      <td>Bluetooth device implant for your ear.</td>\n",
       "      <td>Novelties</td>\n",
       "      <td>Darrin Johnson</td>\n",
       "      <td>1000000</td>\n",
       "      <td>15</td>\n",
       "      <td>6666667</td>\n",
       "      <td>Ionic Ear</td>\n",
       "    </tr>\n",
       "    <tr>\n",
       "      <td>1</td>\n",
       "      <td>1</td>\n",
       "      <td>Retail and wholesale pie factory with two reta...</td>\n",
       "      <td>Specialty Food</td>\n",
       "      <td>Tod Wilson</td>\n",
       "      <td>460000</td>\n",
       "      <td>10</td>\n",
       "      <td>4600000</td>\n",
       "      <td>Mr. Tod's Pie Factory</td>\n",
       "    </tr>\n",
       "    <tr>\n",
       "      <td>2</td>\n",
       "      <td>1</td>\n",
       "      <td>Ava the Elephant is a godsend for frazzled par...</td>\n",
       "      <td>Baby and Child Care</td>\n",
       "      <td>Tiffany Krumins</td>\n",
       "      <td>50000</td>\n",
       "      <td>15</td>\n",
       "      <td>333333</td>\n",
       "      <td>Ava the Elephant</td>\n",
       "    </tr>\n",
       "    <tr>\n",
       "      <td>3</td>\n",
       "      <td>0</td>\n",
       "      <td>Organizing, packing, and moving services deliv...</td>\n",
       "      <td>Consumer Services</td>\n",
       "      <td>Nick Friedman, Omar Soliman</td>\n",
       "      <td>250000</td>\n",
       "      <td>25</td>\n",
       "      <td>1000000</td>\n",
       "      <td>College Foxes Packing Boxes</td>\n",
       "    </tr>\n",
       "    <tr>\n",
       "      <td>4</td>\n",
       "      <td>0</td>\n",
       "      <td>Interactive media centers for healthcare waiti...</td>\n",
       "      <td>Consumer Services</td>\n",
       "      <td>Kevin Flannery</td>\n",
       "      <td>1200000</td>\n",
       "      <td>10</td>\n",
       "      <td>12000000</td>\n",
       "      <td>Wispots</td>\n",
       "    </tr>\n",
       "  </tbody>\n",
       "</table>\n",
       "</div>"
      ],
      "text/plain": [
       "   deal                                        description  \\\n",
       "0     0             Bluetooth device implant for your ear.   \n",
       "1     1  Retail and wholesale pie factory with two reta...   \n",
       "2     1  Ava the Elephant is a godsend for frazzled par...   \n",
       "3     0  Organizing, packing, and moving services deliv...   \n",
       "4     0  Interactive media centers for healthcare waiti...   \n",
       "\n",
       "              category                entrepreneurs  askedFor  \\\n",
       "0            Novelties               Darrin Johnson   1000000   \n",
       "1       Specialty Food                   Tod Wilson    460000   \n",
       "2  Baby and Child Care              Tiffany Krumins     50000   \n",
       "3    Consumer Services  Nick Friedman, Omar Soliman    250000   \n",
       "4    Consumer Services               Kevin Flannery   1200000   \n",
       "\n",
       "   exchangeForStake  valuation                        title  \n",
       "0                15    6666667                    Ionic Ear  \n",
       "1                10    4600000        Mr. Tod's Pie Factory  \n",
       "2                15     333333             Ava the Elephant  \n",
       "3                25    1000000  College Foxes Packing Boxes  \n",
       "4                10   12000000                      Wispots  "
      ]
     },
     "execution_count": 3,
     "metadata": {},
     "output_type": "execute_result"
    }
   ],
   "source": [
    "# turning the true and false of deal to 1 or 0\n",
    "df['deal'] = df['deal'].astype(int)\n",
    "\n",
    "#making sure it did it correctly\n",
    "df.head()\n"
   ]
  },
  {
   "cell_type": "code",
   "execution_count": 4,
   "metadata": {},
   "outputs": [],
   "source": [
    "def data_cleaning(corpus):\n",
    "  letters_only = re.sub('[^a-zA-Z]', \" \", corpus)\n",
    "  words = letters_only.lower().split()\n",
    "  return( ' '.join( words ))"
   ]
  },
  {
   "cell_type": "code",
   "execution_count": 5,
   "metadata": {},
   "outputs": [
    {
     "data": {
      "text/plain": [
       "0                  bluetooth device implant for your ear\n",
       "1      retail and wholesale pie factory with two reta...\n",
       "2      ava the elephant is a godsend for frazzled par...\n",
       "3      organizing packing and moving services deliver...\n",
       "4      interactive media centers for healthcare waiti...\n",
       "                             ...                        \n",
       "490    zoom interiors is a virtual service for interi...\n",
       "491    spikeball started out as a casual outdoors gam...\n",
       "492    shark wheel is out to literally reinvent the w...\n",
       "493    adriana montano wants to open the first cat ca...\n",
       "494    sway motorsports makes a three wheeled all ele...\n",
       "Name: description, Length: 495, dtype: object"
      ]
     },
     "execution_count": 5,
     "metadata": {},
     "output_type": "execute_result"
    }
   ],
   "source": [
    "df['description'] = df['description'].apply(lambda x: data_cleaning(x))\n",
    "df['description']"
   ]
  },
  {
   "cell_type": "code",
   "execution_count": 6,
   "metadata": {},
   "outputs": [],
   "source": [
    "# split data into train and test\n",
    "from sklearn.model_selection import train_test_split\n",
    "train, test = train_test_split(df, test_size = .20)"
   ]
  },
  {
   "cell_type": "code",
   "execution_count": 7,
   "metadata": {},
   "outputs": [],
   "source": [
    "# Vectorize\n",
    "train_corpus = []\n",
    "test_corpus = []\n",
    "for i in train[\"description\"]:\n",
    "  train_corpus.append(i)\n",
    "for i in test[\"description\"]:\n",
    "  test_corpus.append(i)\n",
    "\n",
    "# create\n",
    "from sklearn.feature_extraction.text import CountVectorizer\n",
    "v = CountVectorizer(ngram_range=(2,2))\n",
    "train_features = v.fit_transform(train_corpus)\n",
    "test_features = v.transform(test_corpus)\n"
   ]
  },
  {
   "cell_type": "code",
   "execution_count": 8,
   "metadata": {},
   "outputs": [
    {
     "name": "stdout",
     "output_type": "stream",
     "text": [
      "(396, 11249)\n",
      "(99, 11249)\n"
     ]
    }
   ],
   "source": [
    "print(train_features.shape)\n",
    "print(test_features.shape)"
   ]
  },
  {
   "cell_type": "code",
   "execution_count": 9,
   "metadata": {},
   "outputs": [],
   "source": [
    "# Import ML models from sklearn\n",
    "from sklearn.linear_model import LogisticRegression # Regression classifier\n",
    "from sklearn.tree import DecisionTreeClassifier # decision tree classifier\n",
    "from sklearn import svm # support vector machine\n",
    "from sklearn.ensemble.forest import RandomForestClassifier\n",
    "from sklearn.naive_bayes import MultinomialNB # naive bayes classifier\n",
    "from sklearn.metrics import accuracy_score, recall_score, confusion_matrix # metrics to check performance of modelfrom sklearn.model_selection import train_test_split\n",
    "\n"
   ]
  },
  {
   "cell_type": "code",
   "execution_count": 10,
   "metadata": {},
   "outputs": [],
   "source": [
    "# set params for algorithms \n",
    "Classifiers = {'LR': LogisticRegression(random_state=42, C = 5, max_iter=200),\n",
    "             'DTC': DecisionTreeClassifier(random_state=42, min_samples_leaf=2),\n",
    "             'RF': RandomForestClassifier(random_state= 42, n_estimators= 100,n_jobs=-1),\n",
    "             #'XGB': XGB(random_state = 42, n_estimators = 400, learning_rate = .2),\n",
    "             \"SVM\": svm.SVC(kernel=\"linear\", C = .1),\n",
    "             'NB': MultinomialNB(alpha=.05)}"
   ]
  },
  {
   "cell_type": "code",
   "execution_count": 11,
   "metadata": {},
   "outputs": [],
   "source": [
    "# create pipeline\n",
    "def ML_Pipeline(clf_name):\n",
    "  clf = Classifiers[clf_name]\n",
    "  fit = clf.fit(train_features, train[\"deal\"])\n",
    "  pred = clf.predict(test_features)\n",
    "  Accuracy = accuracy_score(test['deal'],pred)\n",
    "  Confusion_matrix = confusion_matrix(test['deal'], pred)\n",
    "  \n",
    "  print(\"Accuracy = \"+ str(Accuracy))\n",
    "  \n",
    "  print(Confusion_matrix)"
   ]
  },
  {
   "cell_type": "code",
   "execution_count": 12,
   "metadata": {},
   "outputs": [
    {
     "name": "stdout",
     "output_type": "stream",
     "text": [
      "Accuracy = 0.5757575757575758\n",
      "[[34 17]\n",
      " [25 23]]\n"
     ]
    },
    {
     "name": "stderr",
     "output_type": "stream",
     "text": [
      "C:\\Users\\benja\\Anaconda3\\lib\\site-packages\\sklearn\\linear_model\\logistic.py:432: FutureWarning: Default solver will be changed to 'lbfgs' in 0.22. Specify a solver to silence this warning.\n",
      "  FutureWarning)\n"
     ]
    }
   ],
   "source": [
    "ML_Pipeline('LR')"
   ]
  },
  {
   "cell_type": "code",
   "execution_count": 13,
   "metadata": {},
   "outputs": [
    {
     "name": "stdout",
     "output_type": "stream",
     "text": [
      "Accuracy = 0.5959595959595959\n",
      "[[37 14]\n",
      " [26 22]]\n"
     ]
    }
   ],
   "source": [
    "ML_Pipeline('DTC')"
   ]
  },
  {
   "cell_type": "code",
   "execution_count": 14,
   "metadata": {},
   "outputs": [
    {
     "name": "stdout",
     "output_type": "stream",
     "text": [
      "Accuracy = 0.5454545454545454\n",
      "[[46  5]\n",
      " [40  8]]\n"
     ]
    }
   ],
   "source": [
    "ML_Pipeline('RF')"
   ]
  },
  {
   "cell_type": "code",
   "execution_count": 15,
   "metadata": {},
   "outputs": [
    {
     "name": "stdout",
     "output_type": "stream",
     "text": [
      "Accuracy = 0.5858585858585859\n",
      "[[39 12]\n",
      " [29 19]]\n"
     ]
    }
   ],
   "source": [
    "ML_Pipeline('SVM')"
   ]
  },
  {
   "cell_type": "code",
   "execution_count": 16,
   "metadata": {},
   "outputs": [
    {
     "name": "stdout",
     "output_type": "stream",
     "text": [
      "Accuracy = 0.5858585858585859\n",
      "[[22 29]\n",
      " [12 36]]\n"
     ]
    }
   ],
   "source": [
    "ML_Pipeline('NB')"
   ]
  },
  {
   "cell_type": "markdown",
   "metadata": {},
   "source": [
    "Based off of the results an average of 53% there isn't a specific pitch to gaurantee getting a deal with the sharks."
   ]
  }
 ],
 "metadata": {
  "kernelspec": {
   "display_name": "Python 3",
   "language": "python",
   "name": "python3"
  },
  "language_info": {
   "codemirror_mode": {
    "name": "ipython",
    "version": 3
   },
   "file_extension": ".py",
   "mimetype": "text/x-python",
   "name": "python",
   "nbconvert_exporter": "python",
   "pygments_lexer": "ipython3",
   "version": "3.7.4"
  }
 },
 "nbformat": 4,
 "nbformat_minor": 4
}
